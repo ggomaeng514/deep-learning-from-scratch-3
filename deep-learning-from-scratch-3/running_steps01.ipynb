{
 "cells": [
  {
   "cell_type": "markdown",
   "metadata": {},
   "source": [
    "# I. DeZero Framework 만들기\n",
    "***"
   ]
  },
  {
   "cell_type": "code",
   "execution_count": 1,
   "metadata": {},
   "outputs": [
    {
     "data": {
      "text/plain": [
       "'/home/myhwang/deep-learning-from-scratch-3'"
      ]
     },
     "execution_count": 1,
     "metadata": {},
     "output_type": "execute_result"
    }
   ],
   "source": [
    "pwd"
   ]
  },
  {
   "cell_type": "code",
   "execution_count": 7,
   "metadata": {},
   "outputs": [],
   "source": [
    "#from steps.framework_base import *\n",
    "from steps.diff import *\n",
    "from dezero import *\n",
    "import contextlib\n",
    "import numpy as np\n",
    "import graphviz\n",
    "import dezero.functions as F"
   ]
  },
  {
   "cell_type": "markdown",
   "metadata": {},
   "source": [
    "# 1. class input 1개로 구현"
   ]
  },
  {
   "cell_type": "code",
   "execution_count": 3,
   "metadata": {},
   "outputs": [],
   "source": [
    "from steps.framework_base import Variable\n",
    "# class Variable:\n",
    "#     def __init__(self, data):\n",
    "#         self.data = data"
   ]
  },
  {
   "cell_type": "code",
   "execution_count": 4,
   "metadata": {},
   "outputs": [
    {
     "data": {
      "text/plain": [
       "array(10)"
      ]
     },
     "execution_count": 4,
     "metadata": {},
     "output_type": "execute_result"
    }
   ],
   "source": [
    "import numpy as np\n",
    "\n",
    "x=Variable(np.array(10))\n",
    "\n",
    "x.data"
   ]
  },
  {
   "cell_type": "code",
   "execution_count": 5,
   "metadata": {},
   "outputs": [],
   "source": [
    "from steps.function import *\n",
    "\n",
    "# class Function:\n",
    "#     def __call__(self, *args: Any, **kwds: Any) -> Any:\n",
    "#         x = input.data\n",
    "#         y = self.forward(x)\n",
    "#         output = Variable(y)\n",
    "#         return output\n",
    "    \n",
    "#     def forward(self, in_data):\n",
    "#         raise NotImplementedError()\n",
    "#     #matric의 함수를 호출하지 않고 그냥 Function을 호출시 에러 호출"
   ]
  },
  {
   "cell_type": "markdown",
   "metadata": {},
   "source": [
    "하위 클래스 matric의 함수를 호출하지 않아서 에러"
   ]
  },
  {
   "cell_type": "code",
   "execution_count": 6,
   "metadata": {},
   "outputs": [],
   "source": [
    "# f=Function()\n",
    "# y=f(x)\n",
    "\n",
    "# output>> NotImplementedError: "
   ]
  },
  {
   "cell_type": "code",
   "execution_count": 7,
   "metadata": {},
   "outputs": [
    {
     "name": "stdout",
     "output_type": "stream",
     "text": [
      "100\n",
      "2.6881171418161356e+43\n",
      "7.22597376812575e+86\n"
     ]
    }
   ],
   "source": [
    "from steps.matric import *\n",
    "# class Square(Function):\n",
    "#     def forward(self, x):\n",
    "#         output = x**2\n",
    "#         return output\n",
    "\n",
    "# class Exp(Function):\n",
    "#     def forward(self, x):\n",
    "#         output=np.exp(x)\n",
    "#         return output\n",
    "x=Variable(np.array(10))\n",
    "\n",
    "f1=Square()\n",
    "y1=f1(x)\n",
    "print(y1.data)\n",
    "\n",
    "f2=Exp()\n",
    "y2=f2(y1)\n",
    "print(y2.data)\n",
    "\n",
    "y3=f1(y2)\n",
    "print(y3.data)"
   ]
  },
  {
   "cell_type": "code",
   "execution_count": 8,
   "metadata": {},
   "outputs": [
    {
     "ename": "TypeError",
     "evalue": "<class 'float'>은(는) 지원하지 않습니다.",
     "output_type": "error",
     "traceback": [
      "\u001b[0;31m---------------------------------------------------------------------------\u001b[0m",
      "\u001b[0;31mTypeError\u001b[0m                                 Traceback (most recent call last)",
      "Cell \u001b[0;32mIn[8], line 4\u001b[0m\n\u001b[1;32m      1\u001b[0m \u001b[39mfrom\u001b[39;00m \u001b[39msteps\u001b[39;00m\u001b[39m.\u001b[39;00m\u001b[39mdiff\u001b[39;00m \u001b[39mimport\u001b[39;00m \u001b[39m*\u001b[39m\n\u001b[1;32m      3\u001b[0m f\u001b[39m=\u001b[39mSquare()\n\u001b[0;32m----> 4\u001b[0m x\u001b[39m=\u001b[39mVariable(\u001b[39m2.0\u001b[39;49m)\n\u001b[1;32m      5\u001b[0m dy1\u001b[39m=\u001b[39mcentered_diff(f,x)\n\u001b[1;32m      6\u001b[0m \u001b[39mprint\u001b[39m(dy1)\n",
      "File \u001b[0;32m~/deep-learning-from-scratch-3/steps/variable.py:9\u001b[0m, in \u001b[0;36mVariable.__init__\u001b[0;34m(self, data)\u001b[0m\n\u001b[1;32m      7\u001b[0m \u001b[39mif\u001b[39;00m data \u001b[39mis\u001b[39;00m \u001b[39mnot\u001b[39;00m \u001b[39mNone\u001b[39;00m:\n\u001b[1;32m      8\u001b[0m     \u001b[39mif\u001b[39;00m \u001b[39mnot\u001b[39;00m \u001b[39misinstance\u001b[39m(data, np\u001b[39m.\u001b[39mndarray):\n\u001b[0;32m----> 9\u001b[0m         \u001b[39mraise\u001b[39;00m \u001b[39mTypeError\u001b[39;00m(\u001b[39mf\u001b[39m\u001b[39m\"\u001b[39m\u001b[39m{\u001b[39;00m\u001b[39mtype\u001b[39m(data)\u001b[39m}\u001b[39;00m\u001b[39m은(는) 지원하지 않습니다.\u001b[39m\u001b[39m\"\u001b[39m)\n\u001b[1;32m     11\u001b[0m \u001b[39mself\u001b[39m\u001b[39m.\u001b[39mdata \u001b[39m=\u001b[39m data\n\u001b[1;32m     12\u001b[0m \u001b[39mself\u001b[39m\u001b[39m.\u001b[39mgrad \u001b[39m=\u001b[39m \u001b[39mNone\u001b[39;00m\n",
      "\u001b[0;31mTypeError\u001b[0m: <class 'float'>은(는) 지원하지 않습니다."
     ]
    }
   ],
   "source": [
    "from steps.diff import *\n",
    "\n",
    "f=Square()\n",
    "x=Variable(2.0)\n",
    "dy1=centered_diff(f,x)\n",
    "print(dy1)\n",
    "\n",
    "dy2=forward_diff(f,x)\n",
    "print(dy2)\n"
   ]
  },
  {
   "cell_type": "code",
   "execution_count": null,
   "metadata": {},
   "outputs": [
    {
     "name": "stdout",
     "output_type": "stream",
     "text": [
      "3.2974426293330694\n"
     ]
    }
   ],
   "source": [
    "def f(x):\n",
    "    A=Square()\n",
    "    B=Exp()\n",
    "    C=Square()\n",
    "    return C(B(A(x)))\n",
    "\n",
    "x=Variable(np.array(0.5))\n",
    "dy=centered_diff(f,x)\n",
    "print(dy)"
   ]
  },
  {
   "cell_type": "code",
   "execution_count": null,
   "metadata": {},
   "outputs": [
    {
     "name": "stdout",
     "output_type": "stream",
     "text": [
      "3.297442541400256\n"
     ]
    }
   ],
   "source": [
    "A=Square()\n",
    "B=Exp()\n",
    "C=Square()\n",
    "\n",
    "x=Variable(np.array(0.5))\n",
    "a=A(x)\n",
    "b=B(a)\n",
    "y=C(b)\n",
    "\n",
    "y.grad= np.array(1.0)\n",
    "b.grad=C.backward(y.grad) #function의 backward(self, gy)\n",
    "a.grad=B.backward(b.grad)\n",
    "x.grad=A.backward(a.grad)\n",
    "\n",
    "print(x.grad)\n",
    "\n"
   ]
  },
  {
   "cell_type": "markdown",
   "metadata": {},
   "source": [
    "재귀 방식을 이용한 backward 구현"
   ]
  },
  {
   "cell_type": "code",
   "execution_count": null,
   "metadata": {},
   "outputs": [
    {
     "name": "stdout",
     "output_type": "stream",
     "text": [
      "3.297442541400256\n"
     ]
    }
   ],
   "source": [
    "A=Square()\n",
    "B=Exp()\n",
    "C=Square()\n",
    "\n",
    "x=Variable(np.array(0.5))\n",
    "a=A(x)\n",
    "b=B(a)\n",
    "y=C(b)\n",
    "\n",
    "y.grad= np.array(1.0)\n",
    "y.backward() #variable의 backward(self)\n",
    "print(x.grad)"
   ]
  },
  {
   "cell_type": "markdown",
   "metadata": {},
   "source": [
    "반복문을 이용한 backward 구현"
   ]
  },
  {
   "cell_type": "code",
   "execution_count": null,
   "metadata": {},
   "outputs": [
    {
     "name": "stdout",
     "output_type": "stream",
     "text": [
      "3.297442541400256\n"
     ]
    }
   ],
   "source": [
    "A=Square()\n",
    "B=Exp()\n",
    "C=Square()\n",
    "\n",
    "x=Variable(np.array(0.5))\n",
    "a=A(x)\n",
    "b=B(a)\n",
    "y=C(b)\n",
    "\n",
    "y.grad= np.array(1.0)\n",
    "y.backward() #variable의 backward(self)\n",
    "print(x.grad)"
   ]
  },
  {
   "cell_type": "markdown",
   "metadata": {},
   "source": [
    "matric Class 함수화, backward grad 자동생성"
   ]
  },
  {
   "cell_type": "markdown",
   "metadata": {},
   "source": [
    "# 2. input 여러개로 수정"
   ]
  },
  {
   "cell_type": "code",
   "execution_count": 9,
   "metadata": {},
   "outputs": [
    {
     "name": "stdout",
     "output_type": "stream",
     "text": [
      "[1.64872127 1.34985881]\n"
     ]
    }
   ],
   "source": [
    "x=Variable(np.array([0.5,0.3]))\n",
    "y=exp(x)\n",
    "\n",
    "y.backward()\n",
    "print(x.grad)"
   ]
  },
  {
   "cell_type": "code",
   "execution_count": 10,
   "metadata": {},
   "outputs": [
    {
     "ename": "TypeError",
     "evalue": "<class 'float'>은(는) 지원하지 않습니다.",
     "output_type": "error",
     "traceback": [
      "\u001b[0;31m---------------------------------------------------------------------------\u001b[0m",
      "\u001b[0;31mTypeError\u001b[0m                                 Traceback (most recent call last)",
      "Cell \u001b[0;32mIn[10], line 1\u001b[0m\n\u001b[0;32m----> 1\u001b[0m x\u001b[39m=\u001b[39mVariable(\u001b[39m0.5\u001b[39;49m)\n\u001b[1;32m      2\u001b[0m y\u001b[39m=\u001b[39msquare(exp(square(x)))\n\u001b[1;32m      4\u001b[0m y\u001b[39m.\u001b[39mbackward()\n",
      "File \u001b[0;32m~/deep-learning-from-scratch-3/steps/variable.py:9\u001b[0m, in \u001b[0;36mVariable.__init__\u001b[0;34m(self, data)\u001b[0m\n\u001b[1;32m      7\u001b[0m \u001b[39mif\u001b[39;00m data \u001b[39mis\u001b[39;00m \u001b[39mnot\u001b[39;00m \u001b[39mNone\u001b[39;00m:\n\u001b[1;32m      8\u001b[0m     \u001b[39mif\u001b[39;00m \u001b[39mnot\u001b[39;00m \u001b[39misinstance\u001b[39m(data, np\u001b[39m.\u001b[39mndarray):\n\u001b[0;32m----> 9\u001b[0m         \u001b[39mraise\u001b[39;00m \u001b[39mTypeError\u001b[39;00m(\u001b[39mf\u001b[39m\u001b[39m\"\u001b[39m\u001b[39m{\u001b[39;00m\u001b[39mtype\u001b[39m(data)\u001b[39m}\u001b[39;00m\u001b[39m은(는) 지원하지 않습니다.\u001b[39m\u001b[39m\"\u001b[39m)\n\u001b[1;32m     11\u001b[0m \u001b[39mself\u001b[39m\u001b[39m.\u001b[39mdata \u001b[39m=\u001b[39m data\n\u001b[1;32m     12\u001b[0m \u001b[39mself\u001b[39m\u001b[39m.\u001b[39mgrad \u001b[39m=\u001b[39m \u001b[39mNone\u001b[39;00m\n",
      "\u001b[0;31mTypeError\u001b[0m: <class 'float'>은(는) 지원하지 않습니다."
     ]
    }
   ],
   "source": [
    "x=Variable(0.5)\n",
    "y=square(exp(square(x)))\n",
    "\n",
    "y.backward()\n",
    "print(x.grad)"
   ]
  },
  {
   "cell_type": "code",
   "execution_count": null,
   "metadata": {},
   "outputs": [
    {
     "data": {
      "text/plain": [
       "numpy.ndarray"
      ]
     },
     "execution_count": 4,
     "metadata": {},
     "output_type": "execute_result"
    }
   ],
   "source": [
    "def as_array(x):\n",
    "    if np.isscalar(x):\n",
    "        return np.array(x)\n",
    "    return x\n",
    "\n",
    "x=0.5\n",
    "type(as_array(x))"
   ]
  },
  {
   "cell_type": "code",
   "execution_count": 11,
   "metadata": {},
   "outputs": [
    {
     "name": "stdout",
     "output_type": "stream",
     "text": [
      "13.0\n",
      "4.0\n",
      "6.0\n"
     ]
    }
   ],
   "source": [
    "x0=Variable(np.array(2.0))\n",
    "x1=Variable(np.array(3.0))\n",
    "\n",
    "y=add(square(x0),square(x1))\n",
    "y.backward()\n",
    "print(y.data)\n",
    "print(x0.grad)\n",
    "print(x1.grad)"
   ]
  },
  {
   "cell_type": "markdown",
   "metadata": {},
   "source": [
    "함수 세대를 고려한 역전파 알고리즘으로 수정"
   ]
  },
  {
   "cell_type": "code",
   "execution_count": 4,
   "metadata": {},
   "outputs": [
    {
     "name": "stdout",
     "output_type": "stream",
     "text": [
      "32.0\n",
      "16.0\n",
      "96.0\n"
     ]
    }
   ],
   "source": [
    "#약한 참조 이전\n",
    "x=Variable(np.array(2.0))\n",
    "a=square(x)\n",
    "y=add(square(a),square(a)) #y=2.0^8\n",
    "y.backward()\n",
    "print(y.data)\n",
    "print(a.grad)\n",
    "print(x.grad)\n"
   ]
  },
  {
   "cell_type": "markdown",
   "metadata": {},
   "source": [
    "# 3.메모리 관리"
   ]
  },
  {
   "cell_type": "code",
   "execution_count": 3,
   "metadata": {},
   "outputs": [
    {
     "name": "stdout",
     "output_type": "stream",
     "text": [
      "32.0\n",
      "None\n",
      "64.0\n"
     ]
    }
   ],
   "source": [
    "#약한 참조 이후\n",
    "x=Variable(np.array(2.0))\n",
    "a=square(x)\n",
    "y=add(square(a),square(a)) #y=2.0^8\n",
    "y.backward()\n",
    "print(y.data)\n",
    "print(a.grad)\n",
    "print(x.grad)\n"
   ]
  },
  {
   "cell_type": "code",
   "execution_count": 4,
   "metadata": {},
   "outputs": [
    {
     "name": "stdout",
     "output_type": "stream",
     "text": [
      "32.0\n",
      "16.0\n",
      "64.0\n"
     ]
    }
   ],
   "source": [
    "#약한 참조 이후(중간 변수의 미분값을 알기위해서는 retain_grad=True 옵션 필요)\n",
    "x=Variable(np.array(2.0))\n",
    "a=square(x)\n",
    "y=add(square(a),square(a)) #y=2.0^8\n",
    "y.backward(retain_grad=True)\n",
    "print(y.data)\n",
    "print(a.grad)\n",
    "print(x.grad)\n"
   ]
  },
  {
   "cell_type": "markdown",
   "metadata": {},
   "source": [
    "with문 활용"
   ]
  },
  {
   "cell_type": "code",
   "execution_count": 4,
   "metadata": {},
   "outputs": [
    {
     "name": "stdout",
     "output_type": "stream",
     "text": [
      "start\n",
      "process..\n",
      "done\n"
     ]
    }
   ],
   "source": [
    "import contextlib\n",
    "\n",
    "@contextlib.contextmanager\n",
    "def config_test():\n",
    "    print('start')\n",
    "    try:\n",
    "        yield #예외를 실행하는 코드 try/finaly로 감싸야한다\n",
    "    finally:\n",
    "        print('done')\n",
    "\n",
    "with config_test():\n",
    "    print('process..')\n"
   ]
  },
  {
   "cell_type": "code",
   "execution_count": 5,
   "metadata": {},
   "outputs": [],
   "source": [
    "class Config:  # 역전파 여부를 결정하는 코드\n",
    "    enable_backprop = True\n",
    "\n",
    "\n",
    "@contextlib.contextmanager\n",
    "def using_config(name, value):\n",
    "    old_value = getattr(Config, name)\n",
    "    setattr(Config, name, value)\n",
    "    try:\n",
    "        yield\n",
    "    finally:\n",
    "        setattr(Config, name, old_value)"
   ]
  },
  {
   "cell_type": "code",
   "execution_count": 9,
   "metadata": {},
   "outputs": [
    {
     "name": "stdout",
     "output_type": "stream",
     "text": [
      "None\n"
     ]
    }
   ],
   "source": [
    "with using_config('enable_backprop',False):\n",
    "    x=Variable(np.array(2.0))\n",
    "    y=square(x)\n",
    "\n",
    "print(y.grad)"
   ]
  },
  {
   "cell_type": "code",
   "execution_count": 11,
   "metadata": {},
   "outputs": [
    {
     "name": "stdout",
     "output_type": "stream",
     "text": [
      "None\n"
     ]
    }
   ],
   "source": [
    "def no_grad():\n",
    "    return using_config('enable_backprop',False)\n",
    "\n",
    "with no_grad():\n",
    "    x=Variable(np.array(2.0))\n",
    "    y=square(x)\n",
    "\n",
    "print(y.grad)"
   ]
  },
  {
   "cell_type": "markdown",
   "metadata": {},
   "source": [
    "# 4. 변수 사용성 개선"
   ]
  },
  {
   "cell_type": "markdown",
   "metadata": {},
   "source": [
    "변수 이름 지정"
   ]
  },
  {
   "cell_type": "code",
   "execution_count": 3,
   "metadata": {},
   "outputs": [
    {
     "data": {
      "text/plain": [
       "'input_x'"
      ]
     },
     "execution_count": 3,
     "metadata": {},
     "output_type": "execute_result"
    }
   ],
   "source": [
    "#class Variable:\n",
    "#   def __init__(self, data, name=None):\n",
    "#       self.name = name\n",
    "\n",
    "x=Variable(np.array(1.0),'input_x')\n",
    "x.name"
   ]
  },
  {
   "cell_type": "markdown",
   "metadata": {},
   "source": [
    "인스턴스 변수 생성"
   ]
  },
  {
   "cell_type": "code",
   "execution_count": 3,
   "metadata": {},
   "outputs": [
    {
     "name": "stdout",
     "output_type": "stream",
     "text": [
      "(2, 3)\n",
      "2\n",
      "6\n",
      "int64\n"
     ]
    }
   ],
   "source": [
    "# @property\n",
    "# def shape(self):\n",
    "#     return self.data.shape\n",
    "\n",
    "# @property\n",
    "# def ndim(self):\n",
    "#     return self.data.ndim\n",
    "\n",
    "# @property\n",
    "# def size(self):\n",
    "#     return self.data.size\n",
    "\n",
    "# @property\n",
    "# def dtype(self):\n",
    "#     return self.data.dtype\n",
    "\n",
    "x=Variable(np.array([[1,2,3],[4,5,6]]))\n",
    "print(x.shape)\n",
    "print(x.ndim)\n",
    "print(x.size)\n",
    "print(x.dtype)"
   ]
  },
  {
   "cell_type": "markdown",
   "metadata": {},
   "source": [
    "특수 매서드 __len __ , \\_\\_repr\\_\\_(print 변경)"
   ]
  },
  {
   "cell_type": "code",
   "execution_count": 4,
   "metadata": {},
   "outputs": [
    {
     "data": {
      "text/plain": [
       "2"
      ]
     },
     "execution_count": 4,
     "metadata": {},
     "output_type": "execute_result"
    }
   ],
   "source": [
    "# def __len__(self):\n",
    "#     return len(self.data)\n",
    "\n",
    "len(x)"
   ]
  },
  {
   "cell_type": "code",
   "execution_count": 5,
   "metadata": {},
   "outputs": [
    {
     "name": "stdout",
     "output_type": "stream",
     "text": [
      "[[1 2 3]\n",
      "          [4 5 6]]\n",
      "variable([[1 2 3]\n",
      "          [4 5 6]])\n",
      "variable([[1 2 3]\n",
      "          [4 5 6]])\n"
     ]
    }
   ],
   "source": [
    "# def __repr__(self):\n",
    "#     if self.data is None:\n",
    "#         return 'variable(None)'\n",
    "#     p = str(self.data).replace('\\n', '\\n'+' '*9)\n",
    "#     return 'variable('+p+')'\n",
    "x\n",
    "p = str(x.data).replace('\\n', '\\n'+' '*9)\n",
    "print(p)\n",
    "print('variable('+p+')')\n",
    "\n",
    "# __repr__ 사용\n",
    "print(x)"
   ]
  },
  {
   "cell_type": "markdown",
   "metadata": {},
   "source": [
    "# 5. 연산자 오버로드"
   ]
  },
  {
   "cell_type": "markdown",
   "metadata": {},
   "source": [
    "Mul class 구현 (*)"
   ]
  },
  {
   "cell_type": "code",
   "execution_count": 5,
   "metadata": {},
   "outputs": [
    {
     "name": "stdout",
     "output_type": "stream",
     "text": [
      "variable(7.0)\n",
      "2.0\n",
      "3.0\n",
      "1.0\n"
     ]
    }
   ],
   "source": [
    "# class Mul():\n",
    "#     def forward(x0, x1):\n",
    "#         y = x0*x1\n",
    "#         return y\n",
    "\n",
    "#     def backward(self, gy):\n",
    "#         x0, x1 = self.inputs[0].data, self.inputs[1].data\n",
    "#         return gy*x1, gy*x0\n",
    "\n",
    "\n",
    "# def mul(x0, x1):\n",
    "#     f = Mul()\n",
    "#     return f(x0, x1)\n",
    "\n",
    "a=Variable(np.array(3.0))\n",
    "b=Variable(np.array(2.0))\n",
    "c=Variable(np.array(1.0))\n",
    "\n",
    "y=add(mul(a,b),c)\n",
    "\n",
    "y.backward()\n",
    "\n",
    "print(y)\n",
    "print(a.grad)\n",
    "print(b.grad)\n",
    "print(c.grad)\n",
    "\n"
   ]
  },
  {
   "cell_type": "markdown",
   "metadata": {},
   "source": [
    "\\_\\_mul\\_\\_연산자 오버로드"
   ]
  },
  {
   "cell_type": "code",
   "execution_count": 4,
   "metadata": {},
   "outputs": [
    {
     "name": "stdout",
     "output_type": "stream",
     "text": [
      "variable(6.0)\n"
     ]
    }
   ],
   "source": [
    "# def __mul__(self, other):\n",
    "#     return mul(self, other)\n",
    "\n",
    "a=Variable(np.array(3.))\n",
    "b=Variable(np.array(2.))\n",
    "y=a*b\n",
    "print(y)\n"
   ]
  },
  {
   "cell_type": "markdown",
   "metadata": {},
   "source": [
    "\\_\\_add\\_\\_ 연산자 오버로드"
   ]
  },
  {
   "cell_type": "code",
   "execution_count": 3,
   "metadata": {},
   "outputs": [
    {
     "name": "stdout",
     "output_type": "stream",
     "text": [
      "variable(7.0)\n",
      "2.0\n",
      "3.0\n"
     ]
    }
   ],
   "source": [
    "# Variable.__add__ = add\n",
    "a = Variable(np.array(3.0))\n",
    "b = Variable(np.array(2.0))\n",
    "c = Variable(np.array(1.0))\n",
    "\n",
    "y = a * b + c\n",
    "y.backward()\n",
    "\n",
    "print(y)\n",
    "print(a.grad)\n",
    "print(b.grad)"
   ]
  },
  {
   "cell_type": "markdown",
   "metadata": {},
   "source": [
    "np.array 오브젝트 Variable 인스턴스로 변환"
   ]
  },
  {
   "cell_type": "code",
   "execution_count": 3,
   "metadata": {},
   "outputs": [
    {
     "name": "stdout",
     "output_type": "stream",
     "text": [
      "variable(5.0)\n"
     ]
    }
   ],
   "source": [
    "# def as_variable(obj):\n",
    "#     if isinstance(obj, Variable):\n",
    "#         return obj\n",
    "#     return Variable(obj)\n",
    "#\n",
    "#inputs = [as_variable(x) for x in inputs]\n",
    "\n",
    "x=Variable(np.array(2.))\n",
    "y=x+np.array(3.) #np.array 인스턴스 Variable 인스턴스로 변환\n",
    "\n",
    "print(y)"
   ]
  },
  {
   "cell_type": "markdown",
   "metadata": {},
   "source": [
    "add,mul 연산의 우항 as_array적용 & \\_\\_radd\\_\\_, \\_\\_rmul\\_\\_ 생성"
   ]
  },
  {
   "cell_type": "code",
   "execution_count": 3,
   "metadata": {},
   "outputs": [
    {
     "name": "stdout",
     "output_type": "stream",
     "text": [
      "variable(7.0)\n"
     ]
    }
   ],
   "source": [
    "# Variable.__radd__ = add\n",
    "# Variable.__rmul__ = mul\n",
    "\n",
    "# def add(x0, x1):\n",
    "#     x1 = as_array(x1)\n",
    "#     f = Add()\n",
    "#     return f(x0, x1)\n",
    "\n",
    "# def mul(x0, x1):\n",
    "#     x1 = as_array(x1)\n",
    "#     f = Mul()\n",
    "#     return f(x0, x1)\n",
    "\n",
    "x=Variable(np.array(2.))\n",
    "y=3.0*x+1.0\n",
    "print(y)"
   ]
  },
  {
   "cell_type": "markdown",
   "metadata": {},
   "source": [
    "__nef__생성"
   ]
  },
  {
   "cell_type": "code",
   "execution_count": 5,
   "metadata": {},
   "outputs": [
    {
     "name": "stdout",
     "output_type": "stream",
     "text": [
      "variable(-2.0)\n",
      "-1.0\n"
     ]
    }
   ],
   "source": [
    "x=Variable(np.array(2.))\n",
    "y=-x\n",
    "\n",
    "y.backward()\n",
    "print(y)\n",
    "print(x.grad)"
   ]
  },
  {
   "cell_type": "markdown",
   "metadata": {},
   "source": [
    "\\_\\_sub\\_\\_ & \\_\\_rsub\\_\\_ 생성"
   ]
  },
  {
   "cell_type": "code",
   "execution_count": 8,
   "metadata": {},
   "outputs": [
    {
     "name": "stdout",
     "output_type": "stream",
     "text": [
      "variable(0.0)\n",
      "variable(1.0)\n",
      "0.0\n"
     ]
    }
   ],
   "source": [
    "x=Variable(np.array(2.))\n",
    "y1=2.0-x\n",
    "y2=x-1.0\n",
    "\n",
    "y1.backward()\n",
    "y2.backward()\n",
    "\n",
    "print(y1)\n",
    "print(y2)\n",
    "print(x.grad)"
   ]
  },
  {
   "cell_type": "code",
   "execution_count": 1,
   "metadata": {},
   "outputs": [],
   "source": [
    "from steps.framework_base import *\n",
    "from steps.diff import *\n",
    "import contextlib"
   ]
  },
  {
   "cell_type": "markdown",
   "metadata": {},
   "source": [
    "# 6.dezero 패키지로 정리"
   ]
  },
  {
   "cell_type": "markdown",
   "metadata": {},
   "source": [
    "dezero 임포트"
   ]
  },
  {
   "cell_type": "code",
   "execution_count": 1,
   "metadata": {},
   "outputs": [
    {
     "name": "stdout",
     "output_type": "stream",
     "text": [
      "variable(16.0)\n",
      "8.0\n"
     ]
    }
   ],
   "source": [
    "if '__file__' in globals():\n",
    "    import os,sys\n",
    "    sys.path.append(os.path.join(os.path.dirname(__file__),'..'))\n",
    "\n",
    "import numpy as np\n",
    "from dezero import Variable\n",
    "\n",
    "x=Variable(np.array(1.))\n",
    "y=(x+3)**2\n",
    "y.backward()\n",
    "\n",
    "print(y)\n",
    "print(x.grad)"
   ]
  },
  {
   "cell_type": "markdown",
   "metadata": {},
   "source": [
    "# 7.복잡한 함수의 미분"
   ]
  },
  {
   "cell_type": "code",
   "execution_count": 5,
   "metadata": {},
   "outputs": [
    {
     "name": "stdout",
     "output_type": "stream",
     "text": [
      "variable(2.0)\n",
      "2.0 2.0\n"
     ]
    }
   ],
   "source": [
    "def sphere(x,y):\n",
    "    z= x**2+y**2\n",
    "    return z\n",
    "\n",
    "x=Variable(np.array(1.))\n",
    "y=Variable(np.array(1.))\n",
    "z=sphere(x,y)\n",
    "z.backward()\n",
    "\n",
    "print(z)\n",
    "print(x.grad,y.grad)"
   ]
  },
  {
   "cell_type": "code",
   "execution_count": 6,
   "metadata": {},
   "outputs": [
    {
     "name": "stdout",
     "output_type": "stream",
     "text": [
      "variable(0.040000000000000036)\n",
      "0.040000000000000036 0.040000000000000036\n"
     ]
    }
   ],
   "source": [
    "def matyas(x,y):\n",
    "    z=0.26*(x**2+y**2)-0.48*x*y\n",
    "    return z\n",
    "\n",
    "x=Variable(np.array(1.))\n",
    "y=Variable(np.array(1.))\n",
    "z=matyas(x,y)\n",
    "z.backward()\n",
    "\n",
    "print(z)\n",
    "print(x.grad,y.grad)"
   ]
  },
  {
   "cell_type": "code",
   "execution_count": 12,
   "metadata": {},
   "outputs": [
    {
     "name": "stdout",
     "output_type": "stream",
     "text": [
      "variable(1876.0)\n",
      "-5376.0 8064.0\n"
     ]
    }
   ],
   "source": [
    "def goldstein(x,y):\n",
    "    # 가독성을 위한 줄바꿈 문자 \\\n",
    "    z=(1 + (x + y + 1)**2 * (19 - 14*x + 3*x**2 - 14*y + 6*x*y + 3*y**2)) * \\\n",
    "           (30 + (2*x - 3*y)**2 * (18 - 32*x + 12*x**2 + 48*y - 36*x*y + 27*y**2))\n",
    "    return z\n",
    " \n",
    "x=Variable(np.array(1.))\n",
    "y=Variable(np.array(1.))\n",
    "z=goldstein(x,y)\n",
    "z.backward()\n",
    "\n",
    "print(z)\n",
    "print(x.grad,y.grad)"
   ]
  },
  {
   "cell_type": "markdown",
   "metadata": {},
   "source": [
    "# 8.계산 그래프 시각화"
   ]
  },
  {
   "cell_type": "code",
   "execution_count": null,
   "metadata": {},
   "outputs": [],
   "source": [
    "# digraph g{\n",
    "#     x\n",
    "#     y\n",
    "# }\n",
    "\n",
    "# digraph g{\n",
    "#     x [color=orange, style=filled]\n",
    "#     y [color=orange, style=filled]\n",
    "#     exp [color=lightblue, style=filled, shape=box]\n",
    "\n",
    "#     x->exp\n",
    "#     y->exp\n",
    "# }"
   ]
  },
  {
   "cell_type": "code",
   "execution_count": 18,
   "metadata": {},
   "outputs": [
    {
     "name": "stdout",
     "output_type": "stream",
     "text": [
      "140143319066416 [lable=\"x\", color=orange, style=filled]\n",
      "\n",
      "140143319066416 [lable=\"x:(2, 3) float64\", color=orange, style=filled]\n",
      "\n"
     ]
    }
   ],
   "source": [
    "def _dot_var(v, verbose=False):\n",
    "    dot_var = '{} [lable=\"{}\", color=orange, style=filled]\\n'\n",
    "\n",
    "    name = '' if v.name is None else v.name\n",
    "    if verbose and v.data is not None:\n",
    "        if v.name is not None:\n",
    "            name += ':'\n",
    "        name += str(v.shape) + ' ' + str(v.dtype)\n",
    "    return dot_var.format(id(v), name)\n",
    "\n",
    "x=Variable(np.random.randn(2,3))\n",
    "x.name='x'\n",
    "print(_dot_var(x))\n",
    "print(_dot_var(x, verbose=True))"
   ]
  },
  {
   "cell_type": "code",
   "execution_count": 19,
   "metadata": {},
   "outputs": [
    {
     "name": "stdout",
     "output_type": "stream",
     "text": [
      "140143318432016 [lable=\"Add\", color=lightblue, style=filled, shape=box]\n",
      "140143318431008->140143318432016\n",
      "140143318433744->140143318432016\n",
      "140143318432016->140143318431824\n",
      "\n"
     ]
    }
   ],
   "source": [
    "def _dot_func(f):\n",
    "    dot_func = '{} [lable=\"{}\", color=lightblue, style=filled, shape=box]\\n'\n",
    "    txt=dot_func.format(id(f), f.__class__.__name__)\n",
    "\n",
    "    dot_edge= '{}->{}\\n'\n",
    "    for x in f.inputs:\n",
    "        txt += dot_edge.format(id(x), id(f))\n",
    "    for y in f.outputs:\n",
    "        txt += dot_edge.format(id(f), id(y()))\n",
    "    return txt\n",
    "\n",
    "x0=Variable(np.array(1.))\n",
    "x1=Variable(np.array(1.))\n",
    "y=x0+x1\n",
    "txt=_dot_func(y.creator)\n",
    "print(txt)"
   ]
  },
  {
   "cell_type": "markdown",
   "metadata": {},
   "source": [
    "dezero.utils의 plot_dot_graph 생성\n",
    "\n",
    "- .dot 파일은 .dezero 폴더에 tmp_graph.dot으로 생성"
   ]
  },
  {
   "cell_type": "code",
   "execution_count": 1,
   "metadata": {},
   "outputs": [
    {
     "name": "stdout",
     "output_type": "stream",
     "text": [
      "variable(1876.0)\n",
      "-5376.0 8064.0\n"
     ]
    }
   ],
   "source": [
    "import numpy as np\n",
    "from dezero import Variable\n",
    "from dezero.utils import plot_dot_graph\n",
    "\n",
    "def goldstein(x,y):\n",
    "    # 가독성을 위한 줄바꿈 문자 \\\n",
    "    z=(1 + (x + y + 1)**2 * (19 - 14*x + 3*x**2 - 14*y + 6*x*y + 3*y**2)) * \\\n",
    "           (30 + (2*x - 3*y)**2 * (18 - 32*x + 12*x**2 + 48*y - 36*x*y + 27*y**2))\n",
    "    return z\n",
    " \n",
    "x=Variable(np.array(1.))\n",
    "y=Variable(np.array(1.))\n",
    "z=goldstein(x,y)\n",
    "z.backward()\n",
    "\n",
    "print(z)\n",
    "print(x.grad,y.grad)\n",
    "\n",
    "x.name = 'x'\n",
    "y.name = 'y'\n",
    "z.name = 'z'\n",
    "plot_dot_graph(z, verbose=False, to_file='goldstein.png')"
   ]
  },
  {
   "cell_type": "markdown",
   "metadata": {},
   "source": [
    "![nn](/home/myhwang/deep-learning-from-scratch-3/goldstein.png)"
   ]
  },
  {
   "cell_type": "markdown",
   "metadata": {},
   "source": [
    "# 9.테일러 급수 미분"
   ]
  },
  {
   "cell_type": "markdown",
   "metadata": {},
   "source": [
    "sin 함수 구현"
   ]
  },
  {
   "cell_type": "code",
   "execution_count": 13,
   "metadata": {},
   "outputs": [
    {
     "name": "stdout",
     "output_type": "stream",
     "text": [
      "0.7071067811865476\n",
      "0.7071067811865477\n"
     ]
    }
   ],
   "source": [
    "from dezero.core_simple import sin\n",
    "\n",
    "x=Variable(np.array(np.pi/4))\n",
    "y=sin(x)\n",
    "y.backward()\n",
    "\n",
    "print(y.data)\n",
    "print(x.grad)\n"
   ]
  },
  {
   "cell_type": "markdown",
   "metadata": {},
   "source": [
    "sin 함수 테일러 급수로 구현"
   ]
  },
  {
   "cell_type": "code",
   "execution_count": 10,
   "metadata": {},
   "outputs": [
    {
     "name": "stdout",
     "output_type": "stream",
     "text": [
      "0.7071064695751781\n",
      "variable(0.7071032148228457)\n"
     ]
    }
   ],
   "source": [
    "import math\n",
    "def my_sin(x, threshold=0.0001):\n",
    "    y=0\n",
    "    for i in range(100000):\n",
    "        c = (-1)**i / math.factorial(2*i+1)\n",
    "        t= c* x** (2*i+1)\n",
    "        y= y+t\n",
    "        if abs(t.data) < threshold:\n",
    "            break\n",
    "    return y\n",
    "\n",
    "x=Variable(np.array(np.pi/4))\n",
    "y=my_sin(x)\n",
    "y.backward()\n",
    "\n",
    "print(y.data)\n",
    "print(x.grad)\n",
    "\n"
   ]
  },
  {
   "cell_type": "markdown",
   "metadata": {},
   "source": [
    "# 10. 함수최적화"
   ]
  },
  {
   "cell_type": "markdown",
   "metadata": {},
   "source": [
    "rosenbrock 함수 구현"
   ]
  },
  {
   "cell_type": "code",
   "execution_count": 8,
   "metadata": {},
   "outputs": [
    {
     "name": "stdout",
     "output_type": "stream",
     "text": [
      "variable(-2.0) variable(400.0)\n"
     ]
    }
   ],
   "source": [
    "def rosenbrock(x0, x1):\n",
    "    y=100*(x1-x0**2)**2+(1-x0)**2\n",
    "    return y\n",
    "\n",
    "x0=Variable(np.array(0.0))\n",
    "x1=Variable(np.array(2.0))\n",
    "\n",
    "y=rosenbrock(x0,x1)\n",
    "y.backward()\n",
    "print(x0.grad, x1.grad)"
   ]
  },
  {
   "cell_type": "markdown",
   "metadata": {},
   "source": [
    "경사하강법으로 rosenbrock 최적화 <실제 최소 지점 (1,1)>"
   ]
  },
  {
   "cell_type": "code",
   "execution_count": 29,
   "metadata": {},
   "outputs": [
    {
     "name": "stdout",
     "output_type": "stream",
     "text": [
      "variable(0.0) variable(2.0)\n",
      "variable(0.002) variable(1.6)\n",
      "variable(0.0052759968) variable(1.2800008)\n",
      "variable(0.009966698110960038) variable(1.0240062072284468)\n",
      "variable(0.01602875299014943) variable(0.8192248327970044)\n",
      "variable(0.02324750923068761) variable(0.6554312504220874)\n",
      "variable(0.031290846214210376) variable(0.5244530896747561)\n",
      "variable(0.039780241951514035) variable(0.41975829515116514)\n",
      "variable(0.04835473570612382) variable(0.3361231296508763)\n",
      "variable(0.05671405943493354) variable(0.26936613981374286)\n"
     ]
    }
   ],
   "source": [
    "x0=Variable(np.array(0.0))\n",
    "x1=Variable(np.array(2.0))\n",
    "lr= 0.001\n",
    "iters = 10 #1000에서 0.6 부근에서 멈춤, 10000에서 (1,1)로 수렴\n",
    "\n",
    "for i in range(iters):\n",
    "    print(x0,x1)\n",
    "\n",
    "    y=rosenbrock(x0, x1)\n",
    "    x0.cleargrad()\n",
    "    x1.cleargrad()\n",
    "    y.backward()\n",
    "    \n",
    "    x0.data -=  lr * x0.grad\n",
    "    x1.data -=  lr * x1.grad\n",
    "\n",
    "    # x0.data -=  lr * x0.grad.data\n",
    "    # x1.data -=  lr * x1.grad.data\n",
    "    "
   ]
  },
  {
   "cell_type": "markdown",
   "metadata": {},
   "source": [
    "뉴턴 방법을 활용한 최적화 구현"
   ]
  },
  {
   "cell_type": "code",
   "execution_count": 36,
   "metadata": {},
   "outputs": [
    {
     "name": "stdout",
     "output_type": "stream",
     "text": [
      "0 variable(2.0)\n",
      "1 variable(1.4545454545454546)\n",
      "2 variable(1.1510467893775467)\n",
      "3 variable(1.0253259289766978)\n",
      "4 variable(1.0009084519430513)\n",
      "5 variable(1.0000012353089454)\n",
      "6 variable(1.000000000002289)\n",
      "7 variable(1.0)\n",
      "8 variable(1.0)\n",
      "9 variable(1.0)\n"
     ]
    }
   ],
   "source": [
    "import numpy as np\n",
    "from dezero import Variable\n",
    "\n",
    "def f(x):\n",
    "    y= x** 4 -2 * x ** 2\n",
    "    return y\n",
    "\n",
    "#2차 미분이 구현이 안 되어 있어 수동으로 구현\n",
    "def gx2(x):\n",
    "    return 12 * x ** 2 -4\n",
    "\n",
    "x=Variable(np.array(2.))\n",
    "iters= 10\n",
    "\n",
    "for i in range(iters):\n",
    "    print(i,x)\n",
    "\n",
    "    y=f(x)\n",
    "\n",
    "    x.cleargrad()\n",
    "    y.backward()\n",
    "\n",
    "    x.data -= x.grad / gx2(x.data)\n"
   ]
  },
  {
   "cell_type": "markdown",
   "metadata": {},
   "source": [
    "# 11. 고차 미분 구현"
   ]
  },
  {
   "cell_type": "markdown",
   "metadata": {},
   "source": [
    "현재 구현된 DeZero의 문제점 계산의 연결이 Fuction 클래스의 __call__에서만 만들어지므로 <br>역전파를 계산할 때는 만들어지지 않기때문에 고차 미분이 불가능하다.\n",
    "\n",
    "-> 역전파 때도 연결을 구성하게 변경해준다. \n",
    "<br>(backward 메서드에서 ndarray 인스턴스가 아닌 Variable 인스턴스를 사용하게 변경)"
   ]
  },
  {
   "cell_type": "code",
   "execution_count": null,
   "metadata": {},
   "outputs": [],
   "source": [
    "# def backward(self, retain_grad=False, create_graph=False):\n",
    "\n",
    "# self.grad = Variable(np.ones_like(self.data))\n",
    "\n",
    "# with using_config('enable_backprop', create_graph):"
   ]
  },
  {
   "cell_type": "markdown",
   "metadata": {},
   "source": [
    "2차 미분 계산"
   ]
  },
  {
   "cell_type": "code",
   "execution_count": 2,
   "metadata": {},
   "outputs": [
    {
     "name": "stdout",
     "output_type": "stream",
     "text": [
      "variable(24.0)\n",
      "variable(44.0)\n"
     ]
    }
   ],
   "source": [
    "import numpy as np\n",
    "from dezero import Variable\n",
    "\n",
    "def f(x):\n",
    "    y= x** 4 -2 * x ** 2\n",
    "    return y\n",
    "\n",
    "x=Variable(np.array(2.))\n",
    "y=f(x)\n",
    "y.backward(create_graph=True)\n",
    "print(x.grad)\n",
    "\n",
    "gx=x.grad\n",
    "\n",
    "x.cleargrad()\n",
    "\n",
    "gx.backward()\n",
    "print(x.grad)"
   ]
  },
  {
   "cell_type": "markdown",
   "metadata": {},
   "source": [
    "뉴턴법을 활용한 최적화"
   ]
  },
  {
   "cell_type": "code",
   "execution_count": 12,
   "metadata": {},
   "outputs": [
    {
     "name": "stdout",
     "output_type": "stream",
     "text": [
      "0 variable(2.0)\n",
      "1 variable(1.4545454545454546)\n",
      "2 variable(1.1510467893775467)\n",
      "3 variable(1.0253259289766978)\n",
      "4 variable(1.0009084519430513)\n",
      "5 variable(1.0000012353089454)\n",
      "6 variable(1.000000000002289)\n",
      "7 variable(1.0)\n",
      "8 variable(1.0)\n",
      "9 variable(1.0)\n"
     ]
    }
   ],
   "source": [
    "import numpy as np\n",
    "from dezero import Variable\n",
    "\n",
    "def f(x):\n",
    "    y= x** 4 -2 * x ** 2\n",
    "    return y\n",
    "\n",
    "x=Variable(np.array(2.))\n",
    "iters= 10\n",
    "\n",
    "for i in range(iters):\n",
    "    print(i,x)\n",
    "\n",
    "    y=f(x)\n",
    "\n",
    "    x.cleargrad()\n",
    "    y.backward(create_graph=True)\n",
    "\n",
    "    gx=x.grad # 1차 미분 값\n",
    "    x.cleargrad()\n",
    "    gx.backward()\n",
    "    gx2=x.grad # 2차 미분 값\n",
    "\n",
    "    x.data -= gx.data / gx2.data\n"
   ]
  },
  {
   "cell_type": "markdown",
   "metadata": {},
   "source": [
    "sin 함수 고차 미분\n",
    "\n",
    "- 기본 연산을 제외한 함수들은 import dezero.functions as F로 불러올 것"
   ]
  },
  {
   "cell_type": "code",
   "execution_count": 2,
   "metadata": {},
   "outputs": [
    {
     "name": "stdout",
     "output_type": "stream",
     "text": [
      "variable(-0.8414709848078965)\n",
      "variable(-0.5403023058681397)\n",
      "variable(0.8414709848078965)\n"
     ]
    }
   ],
   "source": [
    "x=Variable(np.array(1.))\n",
    "y=F.sin(x)\n",
    "\n",
    "y.backward(create_graph=True)\n",
    "\n",
    "for i in range(3):\n",
    "    gx= x.grad\n",
    "    x.cleargrad()\n",
    "    gx.backward(create_graph=True)\n",
    "    print(x.grad)"
   ]
  },
  {
   "cell_type": "code",
   "execution_count": 3,
   "metadata": {},
   "outputs": [
    {
     "data": {
      "image/png": "[encoded data removed]",
      "text/plain": [
       "<Figure size 640x480 with 1 Axes>"
      ]
     },
     "metadata": {},
     "output_type": "display_data"
    }
   ],
   "source": [
    "import matplotlib.pyplot as plt\n",
    "\n",
    "x=Variable(np.linspace(-7,7,200))\n",
    "y=F.sin(x)\n",
    "\n",
    "y.backward(create_graph=True)\n",
    "\n",
    "logs= [y.data]\n",
    "\n",
    "for i in range(3):\n",
    "    logs.append(x.grad.data)\n",
    "    gx= x.grad\n",
    "    x.cleargrad()\n",
    "    gx.backward(create_graph=True)\n",
    "\n",
    "labels=[\"y=sin(x)\",\"y'\",\"y''\",\"y'''\"]\n",
    "for i,v in enumerate(logs):\n",
    "    plt.plot(x.data,logs[i],label=labels[i])\n",
    "plt.legend(loc='lower right')\n",
    "plt.show()\n",
    "\n",
    "    \n"
   ]
  },
  {
   "cell_type": "code",
   "execution_count": 14,
   "metadata": {},
   "outputs": [
    {
     "name": "stdout",
     "output_type": "stream",
     "text": [
      "(200,) (200,) (200,)\n"
     ]
    }
   ],
   "source": [
    "print(logs[0].shape,\n",
    "logs[1].shape,\n",
    "logs[2].shape)"
   ]
  },
  {
   "cell_type": "markdown",
   "metadata": {},
   "source": [
    "tanh 함수 미분 및 계산 그래프 그리기"
   ]
  },
  {
   "cell_type": "code",
   "execution_count": 2,
   "metadata": {},
   "outputs": [],
   "source": [
    "from dezero.utils import plot_dot_graph\n",
    "\n",
    "x=Variable(np.array(1.))\n",
    "y=F.tanh(x)\n",
    "x.name='x'\n",
    "y.name='y'\n",
    "\n",
    "y.backward(create_graph=True)\n",
    "\n",
    "iters=0\n",
    "\n",
    "for i in range(iters):\n",
    "    gx=x.grad\n",
    "    x.cleargrad()\n",
    "    gx.backward(create_graph=True)\n",
    "\n",
    "gx=x.grad\n",
    "gx.name='gx'+ str(iters+1)\n",
    "plot_dot_graph(gx, verbose=False, to_file='tanh.png')"
   ]
  },
  {
   "cell_type": "markdown",
   "metadata": {},
   "source": [
    "![nn](/home/myhwang/deep-learning-from-scratch-3/tanh.png)"
   ]
  },
  {
   "cell_type": "markdown",
   "metadata": {},
   "source": [
    "double backprop의 활용법\n",
    "\n",
    "- 같은 함수를 연속해서 미분하는 고차 미분 말고 미분된 식을 다른 함수 안에 넣을 수 있다."
   ]
  },
  {
   "cell_type": "code",
   "execution_count": 4,
   "metadata": {},
   "outputs": [
    {
     "name": "stdout",
     "output_type": "stream",
     "text": [
      "variable(100.0)\n"
     ]
    }
   ],
   "source": [
    "#y=x^2\n",
    "#z=(dy/dx)^3 + y 일때 dz/dx는?\n",
    "\n",
    "x= Variable(np.array(2.))\n",
    "y=x**2\n",
    "y.backward(create_graph=True)\n",
    "gx=x.grad\n",
    "x.cleargrad()\n",
    "\n",
    "z=gx**3 + y\n",
    "z.backward()\n",
    "\n",
    "print(x.grad)\n"
   ]
  }
 ],
 "metadata": {
  "kernelspec": {
   "display_name": "myh",
   "language": "python",
   "name": "python3"
  },
  "language_info": {
   "codemirror_mode": {
    "name": "ipython",
    "version": 3
   },
   "file_extension": ".py",
   "mimetype": "text/x-python",
   "name": "python",
   "nbconvert_exporter": "python",
   "pygments_lexer": "ipython3",
   "version": "3.8.8"
  },
  "orig_nbformat": 4
 },
 "nbformat": 4,
 "nbformat_minor": 2
}
