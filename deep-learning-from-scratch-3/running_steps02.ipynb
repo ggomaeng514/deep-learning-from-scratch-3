{
 "cells": [
  {
   "cell_type": "markdown",
   "metadata": {},
   "source": [
    "# II. 신경망 만들기\n",
    "***"
   ]
  },
  {
   "cell_type": "code",
   "execution_count": 1,
   "metadata": {},
   "outputs": [
    {
     "data": {
      "text/plain": [
       "'/home/myhwang/deep-learning-from-scratch-3'"
      ]
     },
     "execution_count": 1,
     "metadata": {},
     "output_type": "execute_result"
    }
   ],
   "source": [
    "pwd"
   ]
  },
  {
   "cell_type": "code",
   "execution_count": 3,
   "metadata": {},
   "outputs": [],
   "source": [
    "from dezero import *\n",
    "import contextlib\n",
    "import numpy as np\n",
    "import graphviz\n",
    "import dezero.functions as F"
   ]
  },
  {
   "cell_type": "markdown",
   "metadata": {},
   "source": [
    "## 1. 기존 패키지가 텐서자료에도 적용 되는가?"
   ]
  },
  {
   "cell_type": "markdown",
   "metadata": {},
   "source": [
    "스칼라"
   ]
  },
  {
   "cell_type": "code",
   "execution_count": null,
   "metadata": {},
   "outputs": [
    {
     "name": "stdout",
     "output_type": "stream",
     "text": [
      "variable(0.8414709848078965)\n"
     ]
    }
   ],
   "source": [
    "x=Variable(np.array(1.))\n",
    "y=F.sin(x)\n",
    "print(y)"
   ]
  },
  {
   "cell_type": "markdown",
   "metadata": {},
   "source": [
    "행렬"
   ]
  },
  {
   "cell_type": "code",
   "execution_count": null,
   "metadata": {},
   "outputs": [
    {
     "name": "stdout",
     "output_type": "stream",
     "text": [
      "variable([[ 0.84147098  0.90929743  0.14112001]\n",
      "          [-0.7568025  -0.95892427 -0.2794155 ]])\n"
     ]
    }
   ],
   "source": [
    "x=Variable(np.array([[1,2,3],[4,5,6]]))\n",
    "y=F.sin(x)\n",
    "print(y)"
   ]
  },
  {
   "cell_type": "markdown",
   "metadata": {},
   "source": [
    "행렬 + 스칼라"
   ]
  },
  {
   "cell_type": "code",
   "execution_count": null,
   "metadata": {},
   "outputs": [
    {
     "name": "stdout",
     "output_type": "stream",
     "text": [
      "variable([[11 22 33]\n",
      "          [44 55 66]])\n"
     ]
    }
   ],
   "source": [
    "x=Variable(np.array([[1,2,3],[4,5,6]]))\n",
    "c=Variable(np.array([[10,20,30],[40,50,60]]))\n",
    "y=x+c\n",
    "print(y)"
   ]
  },
  {
   "cell_type": "markdown",
   "metadata": {},
   "source": [
    "## 2. 형상변환 함수"
   ]
  },
  {
   "cell_type": "markdown",
   "metadata": {},
   "source": [
    "reshape 함수 구현"
   ]
  },
  {
   "cell_type": "code",
   "execution_count": 4,
   "metadata": {},
   "outputs": [
    {
     "name": "stdout",
     "output_type": "stream",
     "text": [
      "[1 2 3 4 5 6]\n"
     ]
    }
   ],
   "source": [
    "x=np.array([[1,2,3],[4,5,6]])\n",
    "y=np.reshape(x,(6,))\n",
    "\n",
    "print(y)"
   ]
  },
  {
   "cell_type": "code",
   "execution_count": 4,
   "metadata": {},
   "outputs": [
    {
     "name": "stdout",
     "output_type": "stream",
     "text": [
      "variable([1 2 3 4 5 6])\n",
      "variable([[1 1 1]\n",
      "          [1 1 1]])\n"
     ]
    }
   ],
   "source": [
    "# class Reshape(Function):\n",
    "#     def __init__(self, shape):\n",
    "#         self.shape = shape\n",
    "\n",
    "#     def forward(self, x):\n",
    "#         self.x_shape = x.shape\n",
    "#         y = x.reshape(self.shape)\n",
    "#         return y\n",
    "\n",
    "#     def backward(self, gy):\n",
    "#         return reshape(gy, self.x_shape)\n",
    "\n",
    "\n",
    "# def reshape(x, shape):\n",
    "#     if x.shape == shape:\n",
    "#         return as_variable(x)\n",
    "#     # f=Reshape(shape)\n",
    "#     # return f(x)\n",
    "#     return Reshape(shape)(x)\n",
    "\n",
    "x=Variable(np.array([[1,2,3],[4,5,6]]))\n",
    "y=F.reshape(x,(6,))\n",
    "y.backward(retain_grad=True)\n",
    "\n",
    "print(y)\n",
    "print(x.grad)"
   ]
  },
  {
   "cell_type": "markdown",
   "metadata": {},
   "source": [
    "편의성 패치"
   ]
  },
  {
   "cell_type": "code",
   "execution_count": 8,
   "metadata": {},
   "outputs": [],
   "source": [
    "#numpy의 reshape\n",
    "x=np.random.rand(1,2,3)\n",
    "\n",
    "y=x.reshape((2,3)) #튜플로 받기\n",
    "y=x.reshape([2,3]) #리스트로 받기\n",
    "y=x.reshape(2,3) #인수를 풀어서 받기"
   ]
  },
  {
   "cell_type": "code",
   "execution_count": 4,
   "metadata": {},
   "outputs": [],
   "source": [
    "# # reshape 입력 편의성을 위한 코드 core.py의 class Variable에 추가\n",
    "# def reshape(self, *shape):\n",
    "#     if len(shape) == 1 and isinstance(shape[0], (tuple, list)):\n",
    "#         shape = shape[0]\n",
    "#     return dezero.funtions.reshape(self, shape)\n",
    "\n",
    "x=Variable(np.random.rand(1,2,3))\n",
    "\n",
    "y=x.reshape((2,3)) #튜플로 받기\n",
    "y=x.reshape([2,3]) #리스트로 받기\n",
    "y=x.reshape(2,3) #인수를 풀어서 받기"
   ]
  },
  {
   "cell_type": "markdown",
   "metadata": {},
   "source": [
    "transpose 함수 구현"
   ]
  },
  {
   "cell_type": "code",
   "execution_count": 6,
   "metadata": {},
   "outputs": [
    {
     "name": "stdout",
     "output_type": "stream",
     "text": [
      "[[1 4]\n",
      " [2 5]\n",
      " [3 6]]\n"
     ]
    }
   ],
   "source": [
    "x=np.array([[1,2,3],[4,5,6]])\n",
    "y=np.transpose(x)\n",
    "\n",
    "print(y)"
   ]
  },
  {
   "cell_type": "code",
   "execution_count": null,
   "metadata": {},
   "outputs": [
    {
     "name": "stdout",
     "output_type": "stream",
     "text": [
      "variable([1 2 3 4 5 6])\n",
      "variable([[1 1 1]\n",
      "          [1 1 1]])\n"
     ]
    }
   ],
   "source": [
    "# class Transpose(Function):\n",
    "#     def forward(self, x):\n",
    "#         y = np.transpose(x)\n",
    "#         return y\n",
    "\n",
    "#     def backward(self, gy):\n",
    "#         gx = transpose(gy)\n",
    "#         return gx\n",
    "\n",
    "\n",
    "# def transpose(x):\n",
    "#     f = Transpose()\n",
    "#     return f(x)\n",
    "\n",
    "x=Variable(np.array([[1,2,3],[4,5,6]]))\n",
    "y=F.transpose(x)\n",
    "y.backward(retain_grad=True)\n",
    "\n",
    "print(y)\n",
    "print(x.grad)"
   ]
  },
  {
   "cell_type": "markdown",
   "metadata": {},
   "source": [
    "편의성 패치"
   ]
  },
  {
   "cell_type": "code",
   "execution_count": 21,
   "metadata": {},
   "outputs": [
    {
     "name": "stdout",
     "output_type": "stream",
     "text": [
      "(2, 3) (3, 2)\n"
     ]
    }
   ],
   "source": [
    "# # transpose 입력 편의성을 위한 코드 core.py의 class Variable에 추가\n",
    "# def transpose(self):\n",
    "#     return dezero.functions.transpose(self)\n",
    "#\n",
    "# @property\n",
    "# def T(self):\n",
    "#     return dezero.functions.transpose(self)\n",
    "\n",
    "x=Variable(np.random.rand(2,3))\n",
    "\n",
    "y=x.transpose() \n",
    "y=x.T()\n",
    "y=x.T # @property\n",
    "\n",
    "y=F.transpose(x)\n",
    "y.data\n",
    "print(x.data.shape, y.shape)\n"
   ]
  },
  {
   "cell_type": "markdown",
   "metadata": {},
   "source": [
    "데이터 구조 순서 변경"
   ]
  },
  {
   "cell_type": "markdown",
   "metadata": {},
   "source": [
    "numpy"
   ]
  },
  {
   "cell_type": "code",
   "execution_count": 6,
   "metadata": {},
   "outputs": [
    {
     "name": "stdout",
     "output_type": "stream",
     "text": [
      "[[[[0.62492053 0.34837898 0.08979581 0.16201332]\n",
      "   [0.66160309 0.93933077 0.68230613 0.92872977]\n",
      "   [0.07879896 0.04240806 0.52253779 0.81951213]]\n",
      "\n",
      "  [[0.28829795 0.59486033 0.75372237 0.45591727]\n",
      "   [0.51402042 0.75263629 0.16519023 0.15963545]\n",
      "   [0.23740602 0.18873385 0.7978057  0.82055843]]]]\n",
      "(1, 2, 3, 4)\n",
      "\n",
      "\n",
      "[[[[0.62492053 0.66160309 0.07879896]\n",
      "   [0.34837898 0.93933077 0.04240806]\n",
      "   [0.08979581 0.68230613 0.52253779]\n",
      "   [0.16201332 0.92872977 0.81951213]]]\n",
      "\n",
      "\n",
      " [[[0.28829795 0.51402042 0.23740602]\n",
      "   [0.59486033 0.75263629 0.18873385]\n",
      "   [0.75372237 0.16519023 0.7978057 ]\n",
      "   [0.45591727 0.15963545 0.82055843]]]]\n",
      "(2, 1, 4, 3)\n"
     ]
    }
   ],
   "source": [
    "A, B, C, D =1,2,3,4\n",
    "x=np.random.rand(A,B,C,D)\n",
    "y=x.transpose(1,0,3,2)\n",
    "\n",
    "print(x)\n",
    "print(x.shape)\n",
    "print('\\n')\n",
    "print(y)\n",
    "print(y.shape)"
   ]
  },
  {
   "cell_type": "code",
   "execution_count": null,
   "metadata": {},
   "outputs": [],
   "source": [
    "# # transpose 구조 순서 변경을 위한 코드 functions.py의 class 수정\n",
    "# class Transpose(Function):\n",
    "#     def __init__(self, axes=None):\n",
    "#         self.axes = axes\n",
    "\n",
    "#     def forward(self, x):\n",
    "#         y = x.transpose(self.axes)\n",
    "#         return y\n",
    "\n",
    "#     def backward(self, gy):\n",
    "#         if self.axes is None:\n",
    "#             return transpose(gy)\n",
    "\n",
    "#         axes_len = len(self.axes)\n",
    "#         inv_axes = tuple(np.argsort([ax % axes_len for ax in self.axes]))\n",
    "#         return transpose(gy, inv_axes)\n",
    "#\n",
    "# def transpose(x, axes=None):\n",
    "#     return Transpose(axes)(x)\n",
    "\n",
    "\n",
    "\n",
    "# # transpose 구조 순서 변경을 위한 코드 core.py의 class Variable에 수정\n",
    "#\n",
    "# def transpose(self, *axes):\n",
    "#     if len(axes) == 0:\n",
    "#         axes = None\n",
    "#     elif len(axes) == 1:\n",
    "#         if isinstance(axes[0], (tuple, list)) or axes[0] is None:\n",
    "#             axes = axes[0]\n",
    "#     return dezero.functions.transpose(self, axes)"
   ]
  },
  {
   "cell_type": "code",
   "execution_count": 6,
   "metadata": {},
   "outputs": [
    {
     "name": "stdout",
     "output_type": "stream",
     "text": [
      "[[[[0.33495746 0.99285864 0.64429329 0.73883322]\n",
      "   [0.91049988 0.29999847 0.75331492 0.16324055]\n",
      "   [0.79819818 0.08766936 0.32783892 0.26212729]]\n",
      "\n",
      "  [[0.94827607 0.51457012 0.84246428 0.71420237]\n",
      "   [0.41365796 0.46076555 0.48962624 0.43056031]\n",
      "   [0.96835464 0.60271868 0.71956376 0.70118926]]]]\n",
      "(1, 2, 3, 4)\n",
      "\n",
      "\n",
      "[[[[0.33495746 0.91049988 0.79819818]\n",
      "   [0.99285864 0.29999847 0.08766936]\n",
      "   [0.64429329 0.75331492 0.32783892]\n",
      "   [0.73883322 0.16324055 0.26212729]]]\n",
      "\n",
      "\n",
      " [[[0.94827607 0.41365796 0.96835464]\n",
      "   [0.51457012 0.46076555 0.60271868]\n",
      "   [0.84246428 0.48962624 0.71956376]\n",
      "   [0.71420237 0.43056031 0.70118926]]]]\n",
      "(2, 1, 4, 3)\n"
     ]
    }
   ],
   "source": [
    "A, B, C, D =1,2,3,4\n",
    "x=Variable(np.random.rand(A,B,C,D))\n",
    "y=x.transpose(1,0,3,2)\n",
    "\n",
    "print(x.data)\n",
    "print(x.shape)\n",
    "print('\\n')\n",
    "print(y.data)\n",
    "print(y.shape)\n"
   ]
  },
  {
   "cell_type": "code",
   "execution_count": 1,
   "metadata": {},
   "outputs": [],
   "source": [
    "from dezero import *\n",
    "import contextlib\n",
    "import numpy as np\n",
    "import graphviz\n",
    "import dezero.functions as F"
   ]
  }
 ],
 "metadata": {
  "kernelspec": {
   "display_name": "myh",
   "language": "python",
   "name": "python3"
  },
  "language_info": {
   "codemirror_mode": {
    "name": "ipython",
    "version": 3
   },
   "file_extension": ".py",
   "mimetype": "text/x-python",
   "name": "python",
   "nbconvert_exporter": "python",
   "pygments_lexer": "ipython3",
   "version": "3.8.8"
  },
  "orig_nbformat": 4
 },
 "nbformat": 4,
 "nbformat_minor": 2
}
